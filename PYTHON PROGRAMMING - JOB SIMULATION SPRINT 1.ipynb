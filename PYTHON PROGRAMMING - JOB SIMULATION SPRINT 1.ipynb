{
 "cells": [
  {
   "cell_type": "code",
   "execution_count": 4,
   "id": "36e3e1e2-297b-4a35-8047-06f7957a241a",
   "metadata": {},
   "outputs": [
    {
     "name": "stdout",
     "output_type": "stream",
     "text": [
      "🔐 Welcome to the Python Password Generator!\n"
     ]
    },
    {
     "name": "stdin",
     "output_type": "stream",
     "text": [
      "Enter the desired password length (minimum 6, maximum 128):  454556\n"
     ]
    },
    {
     "name": "stdout",
     "output_type": "stream",
     "text": [
      "❗ Password length is too long! Please choose a length between 6 and 128.\n"
     ]
    },
    {
     "name": "stdin",
     "output_type": "stream",
     "text": [
      "Enter the desired password length (minimum 6, maximum 128):  12\n"
     ]
    },
    {
     "name": "stdout",
     "output_type": "stream",
     "text": [
      "✅ Your secure password is: 5nK|kCxg\\7PC\n"
     ]
    }
   ],
   "source": [
    "\n",
    "import random\n",
    "import string\n",
    "def get_password_length():\n",
    "    while True:\n",
    "        try:\n",
    "            length = int(input(\"Enter the desired password length (minimum 6, maximum 128): \"))\n",
    "            if 6 <= length <= 128:\n",
    "                return length\n",
    "            elif length > 128:\n",
    "                print(\"❗ Password length is too long! Please choose a length between 6 and 128.\")\n",
    "            else:\n",
    "                print(\"❗ Password length should be at least 6 characters. Please try again.\")\n",
    "        except ValueError:\n",
    "            print(\"❗ Invalid input. Please enter a valid number.\")\n",
    "def generate_password(length):\n",
    "    letters = string.ascii_letters  \n",
    "    digits = string.digits \n",
    "    symbols = string.punctuation \n",
    "\n",
    "    password = random.choice(letters) + random.choice(digits)\n",
    "\n",
    "    all_characters = letters + digits + symbols\n",
    "    for _ in range(length - 2):\n",
    "        password += random.choice(all_characters)\n",
    "\n",
    "    password_list = list(password)\n",
    "    random.shuffle(password_list)\n",
    "\n",
    "    return ''.join(password_list)\n",
    "\n",
    "def main():\n",
    "    print(\"🔐 Welcome to the Python Password Generator!\")\n",
    "    length = get_password_length() \n",
    "    password = generate_password(length)  \n",
    "    print(f\"✅ Your secure password is: {password}\")\n",
    "if __name__ == \"__main__\":\n",
    "    main()\n"
   ]
  },
  {
   "cell_type": "code",
   "execution_count": null,
   "id": "f2ff591a-ebac-441f-9b41-293132d3c7f7",
   "metadata": {},
   "outputs": [],
   "source": []
  }
 ],
 "metadata": {
  "kernelspec": {
   "display_name": "Python 3 (ipykernel)",
   "language": "python",
   "name": "python3"
  },
  "language_info": {
   "codemirror_mode": {
    "name": "ipython",
    "version": 3
   },
   "file_extension": ".py",
   "mimetype": "text/x-python",
   "name": "python",
   "nbconvert_exporter": "python",
   "pygments_lexer": "ipython3",
   "version": "3.12.4"
  }
 },
 "nbformat": 4,
 "nbformat_minor": 5
}
