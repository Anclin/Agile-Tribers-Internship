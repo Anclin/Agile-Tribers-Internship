{
 "cells": [
  {
   "cell_type": "code",
   "execution_count": 1,
   "id": "9b16da64-fd52-4117-850c-04258ea843a4",
   "metadata": {},
   "outputs": [
    {
     "name": "stdout",
     "output_type": "stream",
     "text": [
      "Error: Division by zero is not allowed.\n",
      "The result of 25 divided by 5 is 5.0\n"
     ]
    }
   ],
   "source": [
    "#Handling ZeroDivisionError\n",
    "def safe_divide(a, b):\n",
    "    try:\n",
    "        result = a / b\n",
    "        return f\"The result of {a} divided by {b} is {result}\"\n",
    "    except ZeroDivisionError:\n",
    "        return \"Error: Division by zero is not allowed.\"\n",
    "num1 = 10\n",
    "num2 = 0\n",
    "print(safe_divide(num1, num2))\n",
    "num1 = 25\n",
    "num2 = 5\n",
    "print(safe_divide(num1, num2))\n"
   ]
  },
  {
   "cell_type": "code",
   "execution_count": 2,
   "id": "39d43a24-c339-4264-8993-3b38972d78e6",
   "metadata": {},
   "outputs": [
    {
     "name": "stdout",
     "output_type": "stream",
     "text": [
      "The result of 20 divided by 5 is 4.0\n",
      "Error: The provided string cannot be converted to an integer.\n",
      "Error: Division by zero is not allowed.\n"
     ]
    }
   ],
   "source": [
    "#Handling Multiple Exceptions\n",
    "def handle_exceptions(num, text):\n",
    "    try:\n",
    "        divisor = int(text)\n",
    "        \n",
    "        result = num / divisor\n",
    "        return f\"The result of {num} divided by {divisor} is {result}\"\n",
    "    \n",
    "    except ValueError:\n",
    "        return \"Error: The provided string cannot be converted to an integer.\"\n",
    "    \n",
    "    except ZeroDivisionError:\n",
    "        return \"Error: Division by zero is not allowed.\"\n",
    "\n",
    "num = 20\n",
    "text1 = \"5\"  \n",
    "text2 = \"abc\"  \n",
    "text3 = \"0\"  \n",
    "print(handle_exceptions(num, text1))  \n",
    "print(handle_exceptions(num, text2))  \n",
    "print(handle_exceptions(num, text3))  \n"
   ]
  },
  {
   "cell_type": "code",
   "execution_count": 3,
   "id": "e098981e-8124-42ee-8408-b0a2462b208a",
   "metadata": {},
   "outputs": [
    {
     "name": "stdout",
     "output_type": "stream",
     "text": [
      "Error: The file 'data.txt' was not found.\n",
      "File was not opened, so nothing to close.\n"
     ]
    }
   ],
   "source": [
    "#Using Try-Except-Finally\n",
    "def read_file():\n",
    "    try:\n",
    "        file = open(\"data.txt\", \"r\")\n",
    "        \n",
    "        content = file.read()\n",
    "        print(\"File Contents:\\n\", content)\n",
    "    \n",
    "    except FileNotFoundError:\n",
    "        print(\"Error: The file 'data.txt' was not found.\")\n",
    "    \n",
    "    finally:\n",
    "        try:\n",
    "            file.close()\n",
    "            print(\"File closed successfully.\")\n",
    "        except NameError:\n",
    "            print(\"File was not opened, so nothing to close.\")\n",
    "read_file()\n"
   ]
  },
  {
   "cell_type": "code",
   "execution_count": 9,
   "id": "099d2298-5437-4f56-a64d-201a832e8695",
   "metadata": {},
   "outputs": [
    {
     "name": "stdout",
     "output_type": "stream",
     "text": [
      "The result of 10 divided by 2 is 5.0\n",
      "Operation successful.\n",
      "Error: Division by zero is not allowed.\n",
      "Error: Invalid input. Please enter valid numbers.\n",
      "Error: Invalid input. Please enter valid numbers.\n"
     ]
    }
   ],
   "source": [
    "# Nested Try-Except Blocks:\n",
    "def nested_try_except(a, b):\n",
    "    try:\n",
    "        if not isinstance(a, (int, float)) or not isinstance(b, (int, float)):\n",
    "            raise ValueError(\"Error: Invalid input. Please enter valid numbers.\")\n",
    "        \n",
    "        try:\n",
    "            result = a / b\n",
    "            print(f\"The result of {a} divided by {b} is {result}\")\n",
    "        \n",
    "        except ZeroDivisionError:\n",
    "            print(\"Error: Division by zero is not allowed.\")\n",
    "            return\n",
    "        \n",
    "    except ValueError as ve:\n",
    "        print(ve)\n",
    "        return\n",
    "    \n",
    "    except TypeError:\n",
    "        print(\"Error: Invalid data type. Please provide numbers.\")\n",
    "        return\n",
    "    \n",
    "    print(\"Operation successful.\")\n",
    "\n",
    "nested_try_except(10, 2)  \n",
    "nested_try_except(8, 0)   \n",
    "nested_try_except(\"abc\", 5)  \n",
    "nested_try_except(15, \"xyz\")  \n"
   ]
  },
  {
   "cell_type": "code",
   "execution_count": 10,
   "id": "53b0bab1-ef59-4da8-ad5e-bd2fa9960307",
   "metadata": {},
   "outputs": [
    {
     "name": "stdout",
     "output_type": "stream",
     "text": [
      "Error: Password must be at least 8 characters long.\n",
      "Error: Password must contain both letters and numbers.\n",
      "Error: Password must contain both letters and numbers.\n",
      "Password is valid.\n"
     ]
    }
   ],
   "source": [
    "#Raising Exceptions Manually\n",
    "def validate_password(password):\n",
    "    if len(password) < 8:\n",
    "        raise ValueError(\"Error: Password must be at least 8 characters long.\")\n",
    "    \n",
    "    has_letter = any(char.isalpha() for char in password)\n",
    "    has_number = any(char.isdigit() for char in password)\n",
    "    \n",
    "    if not (has_letter and has_number):\n",
    "        raise ValueError(\"Error: Password must contain both letters and numbers.\")\n",
    "    \n",
    "    return \"Password is valid.\"\n",
    "\n",
    "try:\n",
    "    print(validate_password(\"abc123\"))  \n",
    "except ValueError as e:\n",
    "    print(e)\n",
    "\n",
    "try:\n",
    "    print(validate_password(\"abcdefgh\"))  \n",
    "except ValueError as e:\n",
    "    print(e)\n",
    "\n",
    "try:\n",
    "    print(validate_password(\"12345678\"))  \n",
    "except ValueError as e:\n",
    "    print(e)\n",
    "\n",
    "try:\n",
    "    print(validate_password(\"abc12345\"))  \n",
    "except ValueError as e:\n",
    "    print(e)\n"
   ]
  },
  {
   "cell_type": "code",
   "execution_count": 2,
   "id": "2d3f129c-b334-4347-9e55-9096ddf86efd",
   "metadata": {},
   "outputs": [
    {
     "name": "stdout",
     "output_type": "stream",
     "text": [
      "5.0\n",
      "Error: Division by zero is not allowed.\n",
      "Error: Invalid input type. Both inputs must be numbers.\n"
     ]
    }
   ],
   "source": [
    "#Exception Handling with Logging\n",
    "import logging\n",
    "logging.basicConfig(filename=\"error_log.txt\", level=logging.ERROR, \n",
    "                    format=\"%(asctime)s - %(levelname)s - %(message)s\")\n",
    "\n",
    "def safe_divide(a, b):\n",
    "    try:\n",
    "        result = a / b\n",
    "        return result\n",
    "    except ZeroDivisionError:\n",
    "        logging.error(\"Division by zero is not allowed.\")\n",
    "        return \"Error: Division by zero is not allowed.\"\n",
    "    except TypeError:\n",
    "        logging.error(\"Invalid input type. Both inputs must be numbers.\")\n",
    "        return \"Error: Invalid input type. Both inputs must be numbers.\"\n",
    "\n",
    "print(safe_divide(10, 2))   \n",
    "print(safe_divide(5, 0))    \n",
    "print(safe_divide(\"10\", 5))  \n"
   ]
  },
  {
   "cell_type": "code",
   "execution_count": 3,
   "id": "55a13f25-a1b0-4853-b0aa-757a8c6341f5",
   "metadata": {},
   "outputs": [
    {
     "name": "stdout",
     "output_type": "stream",
     "text": [
      "Result: 5.0\n",
      "Error: Division by zero is not allowed.\n",
      "Error: unsupported operand type(s) for /: 'str' and 'int'\n"
     ]
    }
   ],
   "source": [
    "#expection handling in nested function\n",
    "def outer_function(a, b):\n",
    "    def inner_function(x, y):\n",
    "        return x / y\n",
    "    \n",
    "    try:\n",
    "        result = inner_function(a, b)\n",
    "        return f\"Result: {result}\"\n",
    "    except ZeroDivisionError:\n",
    "        return \"Error: Division by zero is not allowed.\"\n",
    "    except Exception as e:\n",
    "        return f\"Error: {e}\"\n",
    "\n",
    "print(outer_function(10, 2))  \n",
    "print(outer_function(5, 0))  \n",
    "print(outer_function(\"10\", 5))  "
   ]
  },
  {
   "cell_type": "code",
   "execution_count": 4,
   "id": "760ac6d5-1c0b-48f6-bd87-e1a6fb4a32cd",
   "metadata": {},
   "outputs": [
    {
     "name": "stdin",
     "output_type": "stream",
     "text": [
      "Enter a number:  23\n"
     ]
    },
    {
     "name": "stdout",
     "output_type": "stream",
     "text": [
      "Success! You entered the number 23.\n"
     ]
    }
   ],
   "source": [
    "# using else with Try except\n",
    "def convert_to_integer():\n",
    "    try:\n",
    "        num = int(input(\"Enter a number: \"))\n",
    "    except ValueError:\n",
    "        print(\"Invalid input\")\n",
    "    else:\n",
    "        print(f\"Success! You entered the number {num}.\")\n",
    "\n",
    "convert_to_integer()\n"
   ]
  },
  {
   "cell_type": "code",
   "execution_count": 5,
   "id": "e5db8d8e-c0fd-4478-841e-b7c7f64308cc",
   "metadata": {},
   "outputs": [
    {
     "name": "stdin",
     "output_type": "stream",
     "text": [
      "Enter your name:  stephy\n",
      "Enter your age:  21\n"
     ]
    },
    {
     "name": "stdout",
     "output_type": "stream",
     "text": [
      "Hello stephy, you are 21 years old!\n"
     ]
    }
   ],
   "source": [
    "#formate string with f string\n",
    "def greet_user():\n",
    "    name = input(\"Enter your name: \")\n",
    "    age = int(input(\"Enter your age: \"))\n",
    "    print(f\"Hello {name}, you are {age} years old!\")\n",
    "\n",
    "greet_user()\n"
   ]
  },
  {
   "cell_type": "code",
   "execution_count": 6,
   "id": "c2aeac0b-74ef-4642-b0bd-5715f75a8444",
   "metadata": {},
   "outputs": [
    {
     "name": "stdin",
     "output_type": "stream",
     "text": [
      "Enter a float number:  3.3\n"
     ]
    },
    {
     "name": "stdout",
     "output_type": "stream",
     "text": [
      "Formatted using format(): 3.30\n",
      "Formatted using f-string: 3.30\n"
     ]
    }
   ],
   "source": [
    "#formate decimal place\n",
    "def format_decimal(num):\n",
    "    formatted1 = \"{:.2f}\".format(num)\n",
    "    formatted2 = f\"{num:.2f}\"\n",
    "    return formatted1, formatted2\n",
    "num = float(input(\"Enter a float number: \"))\n",
    "result1, result2 = format_decimal(num)\n",
    "print(f\"Formatted using format(): {result1}\")\n",
    "print(f\"Formatted using f-string: {result2}\")\n"
   ]
  },
  {
   "cell_type": "code",
   "execution_count": 7,
   "id": "979e6daf-2a7b-4eed-9d37-1063d40e376d",
   "metadata": {},
   "outputs": [
    {
     "name": "stdout",
     "output_type": "stream",
     "text": [
      "Item                Price\n",
      "-------------------------\n",
      "Apple                  25\n",
      "Banana                 12\n",
      "Orange                 15\n",
      "Mango                  30\n"
     ]
    }
   ],
   "source": [
    "#align text in string formatting\n",
    "def print_items(items):\n",
    "    print(\"Item\".ljust(15) + \"Price\".rjust(10))\n",
    "    print(\"-\" * 25)\n",
    "    for item, price in items.items():\n",
    "        print(item.ljust(15) + str(price).rjust(10))\n",
    "items = {\"Apple\": 25, \"Banana\": 12, \"Orange\": 15, \"Mango\": 30}\n",
    "print_items(items)\n"
   ]
  },
  {
   "cell_type": "code",
   "execution_count": 8,
   "id": "a7b9e620-6ce5-4ac1-82aa-80712d8f48f6",
   "metadata": {},
   "outputs": [
    {
     "name": "stdout",
     "output_type": "stream",
     "text": [
      "John is 30 years old and lives in New York.\n"
     ]
    }
   ],
   "source": [
    "#dynaamic string formatting using dictionaries\n",
    "person = {\"name\": \"John\", \"age\": 30, \"city\": \"New York\"}\n",
    "output = \"{name} is {age} years old and lives in {city}.\".format(**person)\n",
    "print(output)\n"
   ]
  },
  {
   "cell_type": "code",
   "execution_count": 9,
   "id": "bf01e020-89da-4578-94a3-deb257ec291c",
   "metadata": {},
   "outputs": [
    {
     "name": "stdin",
     "output_type": "stream",
     "text": [
      "Enter a large number:  789\n"
     ]
    },
    {
     "name": "stdout",
     "output_type": "stream",
     "text": [
      "Formatted number: 789\n"
     ]
    }
   ],
   "source": [
    "#formatting large numbers\n",
    "def format_large_number(num):\n",
    "    return f\"{num:,}\"\n",
    "\n",
    "# Test case\n",
    "num = int(input(\"Enter a large number: \"))\n",
    "print(f\"Formatted number: {format_large_number(num)}\")\n"
   ]
  },
  {
   "cell_type": "code",
   "execution_count": 10,
   "id": "643ed53b-9392-43b4-998b-a00dd0515af0",
   "metadata": {},
   "outputs": [
    {
     "name": "stdout",
     "output_type": "stream",
     "text": [
      "Error: The password '123' is too short. It must be at least 8 characters long.\n",
      "Error: The password 'password' must contain at least one digit.\n",
      "Password is valid!\n"
     ]
    }
   ],
   "source": [
    "#combining string formatting and exception handling\n",
    "def validate_password(password):\n",
    "    if len(password) < 8:\n",
    "        print(f\"Error: The password '{password}' is too short. It must be at least 8 characters long.\")\n",
    "    elif not any(char.isdigit() for char in password):\n",
    "        print(f\"Error: The password '{password}' must contain at least one digit.\")\n",
    "    elif not any(char.isalpha() for char in password):\n",
    "        print(f\"Error: The password '{password}' must contain at least one letter.\")\n",
    "    else:\n",
    "        print(\"Password is valid!\")\n",
    "\n",
    "validate_password(\"123\")\n",
    "validate_password(\"password\")\n",
    "validate_password(\"pass1234\")\n"
   ]
  },
  {
   "cell_type": "code",
   "execution_count": 11,
   "id": "f0e785fc-7109-4a39-81cc-e470d79699ba",
   "metadata": {},
   "outputs": [
    {
     "name": "stdout",
     "output_type": "stream",
     "text": [
      "Today is March 26, 2025, and the time is 11:19 AM\n"
     ]
    }
   ],
   "source": [
    "#compaing string formatting and exception handling\n",
    "from datetime import datetime\n",
    "\n",
    "def print_date_time():\n",
    "    now = datetime.now()\n",
    "    formatted_date = now.strftime(\"Today is %B %d, %Y, and the time is %I:%M %p\")\n",
    "    print(formatted_date)\n",
    "\n",
    "print_date_time()\n",
    "\n"
   ]
  },
  {
   "cell_type": "code",
   "execution_count": 12,
   "id": "6bd401bc-cd7e-4919-9227-baee74497926",
   "metadata": {},
   "outputs": [
    {
     "name": "stdin",
     "output_type": "stream",
     "text": [
      "Enter your name:  stephy\n",
      "Enter your age:  21\n",
      "Enter your email:  anclin@gmail.com\n"
     ]
    },
    {
     "name": "stdout",
     "output_type": "stream",
     "text": [
      "\n",
      "    -----------------------------\n",
      "    Name : stephy\n",
      "    Age  : 21\n",
      "    Email: anclin@gmail.com\n",
      "    -----------------------------\n",
      "    \n"
     ]
    }
   ],
   "source": [
    "#formating  multi line string\n",
    "def print_user_details():\n",
    "    name = input(\"Enter your name: \")\n",
    "    age = input(\"Enter your age: \")\n",
    "    email = input(\"Enter your email: \")\n",
    "\n",
    "    details = f\"\"\"\n",
    "    -----------------------------\n",
    "    Name : {name}\n",
    "    Age  : {age}\n",
    "    Email: {email}\n",
    "    -----------------------------\n",
    "    \"\"\"\n",
    "    print(details)\n",
    "\n",
    "print_user_details()\n"
   ]
  },
  {
   "cell_type": "code",
   "execution_count": 13,
   "id": "2dd1b015-c595-4b79-a51c-2c6b1311f33c",
   "metadata": {},
   "outputs": [
    {
     "name": "stdout",
     "output_type": "stream",
     "text": [
      "File 'students.txt' created successfully.\n"
     ]
    }
   ],
   "source": [
    "#creating writing a file\n",
    "def create_file():\n",
    "    with open(\"students.txt\", \"w\") as file:\n",
    "        file.write(\"Alice\\n\")\n",
    "        file.write(\"Bob\\n\")\n",
    "        file.write(\"Charlie\\n\")\n",
    "    print(\"File 'students.txt' created successfully.\")\n",
    "\n",
    "create_file()\n"
   ]
  },
  {
   "cell_type": "code",
   "execution_count": 14,
   "id": "0e8e5c0b-8797-4a51-8e51-1915344866cf",
   "metadata": {},
   "outputs": [
    {
     "name": "stdout",
     "output_type": "stream",
     "text": [
      "File content before appending:\n",
      " Alice\n",
      "Bob\n",
      "Charlie\n",
      "\n",
      "Updated file content:\n",
      " Alice\n",
      "Bob\n",
      "Charlie\n",
      "\n",
      "David\n"
     ]
    }
   ],
   "source": [
    "#reading and appending too a file\n",
    "def read_and_append(filename, text):\n",
    "    try:\n",
    "        with open(filename, \"r\") as file:\n",
    "            content = file.read()\n",
    "            print(\"File content before appending:\\n\", content)\n",
    "        \n",
    "        with open(filename, \"a\") as file:\n",
    "            file.write(\"\\n\" + text)\n",
    "        \n",
    "        with open(filename, \"r\") as file:\n",
    "            updated_content = file.read()\n",
    "            print(\"Updated file content:\\n\", updated_content)\n",
    "    except FileNotFoundError:\n",
    "        print(\"Error: File not found.\")\n",
    "\n",
    "read_and_append(\"students.txt\", \"David\")\n"
   ]
  },
  {
   "cell_type": "code",
   "execution_count": null,
   "id": "daf7b618-80ff-48c2-9add-dbd354d6c2a9",
   "metadata": {},
   "outputs": [],
   "source": []
  }
 ],
 "metadata": {
  "kernelspec": {
   "display_name": "Python 3 (ipykernel)",
   "language": "python",
   "name": "python3"
  },
  "language_info": {
   "codemirror_mode": {
    "name": "ipython",
    "version": 3
   },
   "file_extension": ".py",
   "mimetype": "text/x-python",
   "name": "python",
   "nbconvert_exporter": "python",
   "pygments_lexer": "ipython3",
   "version": "3.12.4"
  }
 },
 "nbformat": 4,
 "nbformat_minor": 5
}
