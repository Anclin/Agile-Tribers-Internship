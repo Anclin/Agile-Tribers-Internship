{
 "cells": [
  {
   "cell_type": "code",
   "execution_count": 8,
   "id": "1237c6d6-6311-4b1b-9fcd-9c93db3c7bd3",
   "metadata": {},
   "outputs": [
    {
     "name": "stdin",
     "output_type": "stream",
     "text": [
      "Enter the first number :  12\n",
      "Enter the second number :  500\n"
     ]
    },
    {
     "name": "stdout",
     "output_type": "stream",
     "text": [
      "Product is greatert Than 500: 512\n"
     ]
    }
   ],
   "source": [
    "#Product or sum condition\n",
    "num1=int(input(\"Enter the first number : \"))\n",
    "num2=int(input(\"Enter the second number : \"))\n",
    "product=num1*num2\n",
    "if product >500:\n",
    "    result=num1+num2\n",
    "    print(\"Product is greatert Than 500:\",result)\n",
    "else:\n",
    "    result=product\n",
    "    print(\" The product is:\",result)"
   ]
  },
  {
   "cell_type": "code",
   "execution_count": 11,
   "id": "f5fc5ea7-82c3-46cf-98b5-b4fb88183a26",
   "metadata": {},
   "outputs": [
    {
     "name": "stdout",
     "output_type": "stream",
     "text": [
      "The largest number is: 230\n"
     ]
    }
   ],
   "source": [
    "#find Greatest of Three numbers\n",
    "num1=230\n",
    "num2=90\n",
    "num3=56\n",
    "if num1 >= num2 and num2 >= num3:\n",
    "    print(\"The largest number is:\" ,num1)\n",
    "elif num2 >= num3 and num3 >= num1:\n",
    "    print(\"The Largest number is:\",num2)\n",
    "else:\n",
    "    Print(\"The Largest number is:\",num3)\n",
    "\n"
   ]
  },
  {
   "cell_type": "code",
   "execution_count": 1,
   "id": "290bd642-b6a2-47cf-881f-4db03a76fcea",
   "metadata": {},
   "outputs": [
    {
     "name": "stdout",
     "output_type": "stream",
     "text": [
      "List after removing duplicates: [70, 40, 10, 50, 20, 90, 60, 30]\n"
     ]
    }
   ],
   "source": [
    "#reomove Duplicate item from list\n",
    "check_list = [10, 20, 30, 40, 50, 50, 50, 60, 70, 90]\n",
    "remove_duplicate = list(set(check_list))\n",
    "print(\"List after removing duplicates:\", remove_duplicate)\n",
    "\n"
   ]
  },
  {
   "cell_type": "code",
   "execution_count": 4,
   "id": "95311a19-dd5a-4f63-88fc-ba13bcdf5fcb",
   "metadata": {},
   "outputs": [
    {
     "name": "stdout",
     "output_type": "stream",
     "text": [
      "nums = [2, 2, '_', '_']\n"
     ]
    }
   ],
   "source": [
    "# remove and replace the element\n",
    "# Input list and number to remove\n",
    "nums = [3, 2, 2, 3]\n",
    "remove = 3\n",
    "result = [num for num in nums if num != remove]\n",
    "result.extend([\"_\"] * (len(nums) - len(result)))\n",
    "print(\"nums =\", result)\n"
   ]
  },
  {
   "cell_type": "code",
   "execution_count": 8,
   "id": "88066afe-526a-42a6-a417-38bcef37d0f4",
   "metadata": {},
   "outputs": [
    {
     "name": "stdout",
     "output_type": "stream",
     "text": [
      "Check whether any number apears more than once: False\n"
     ]
    }
   ],
   "source": [
    "\n",
    "#check duplicte in a list\n",
    "num1 = [1,2,3,1]\n",
    "num2 = [1,2,3,4]\n",
    "duplicates = len(num1) != len(set(num2))\n",
    "if duplicates:\n",
    "    print(\"Check whether any number apears more than once:\",duplicates)\n",
    "else:\n",
    "    print(\"Check whether any number apears more than once:\",duplicates)\n"
   ]
  },
  {
   "cell_type": "code",
   "execution_count": 10,
   "id": "5d1de34c-68ac-478b-b4d4-4d5004a588b6",
   "metadata": {},
   "outputs": [
    {
     "name": "stdin",
     "output_type": "stream",
     "text": [
      "Enter a number:  38\n"
     ]
    },
    {
     "name": "stdout",
     "output_type": "stream",
     "text": [
      "The single digit result is: 2\n"
     ]
    }
   ],
   "source": [
    "#repeatedly sum digits until a single digit is obtaines\n",
    "num = int(input(\"Enter a number: \"))\n",
    "while num >= 10:\n",
    "    num = sum(int(digit) for digit in str(num))\n",
    "print(\"The single digit result is:\", num)\n",
    "\n"
   ]
  },
  {
   "cell_type": "code",
   "execution_count": 17,
   "id": "f2bd497d-7627-4437-96b6-c307c1cb9de4",
   "metadata": {},
   "outputs": [
    {
     "name": "stdout",
     "output_type": "stream",
     "text": [
      "Modified list: [1, 0, 0, 2, 3, 0, 0, 4]\n"
     ]
    }
   ],
   "source": [
    "#duplicate each occuance of zer in a list\n",
    "arr = [1, 0, 2, 3, 0, 4, 5, 0]\n",
    "result = []\n",
    "for num in arr:\n",
    "    if num == 0:\n",
    "        result.append(0)\n",
    "        if len(result) < len(arr):\n",
    "            result.append(0)\n",
    "    else:\n",
    "        result.append(num)\n",
    "        if len(result) == len(arr):\n",
    "         break\n",
    "print(\"Modified list:\", result)\n"
   ]
  },
  {
   "cell_type": "code",
   "execution_count": 20,
   "id": "880d27dd-2d32-4b50-9f17-ea91ef80e828",
   "metadata": {},
   "outputs": [
    {
     "name": "stdout",
     "output_type": "stream",
     "text": [
      "Intersection of Two list is: {2}\n"
     ]
    }
   ],
   "source": [
    "#intersection of tw list\n",
    "num1={1,2,2,1}\n",
    "num2={2,2}\n",
    "intersect=num1&num2\n",
    "print(\"Intersection of Two list is:\",intersect)"
   ]
  }
 ],
 "metadata": {
  "kernelspec": {
   "display_name": "Python 3 (ipykernel)",
   "language": "python",
   "name": "python3"
  },
  "language_info": {
   "codemirror_mode": {
    "name": "ipython",
    "version": 3
   },
   "file_extension": ".py",
   "mimetype": "text/x-python",
   "name": "python",
   "nbconvert_exporter": "python",
   "pygments_lexer": "ipython3",
   "version": "3.12.4"
  }
 },
 "nbformat": 4,
 "nbformat_minor": 5
}
