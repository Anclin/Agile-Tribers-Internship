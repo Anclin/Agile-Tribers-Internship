{
 "cells": [
  {
   "cell_type": "code",
   "execution_count": 3,
   "id": "27265728-7167-40cb-89fa-db29909db30c",
   "metadata": {},
   "outputs": [
    {
     "name": "stdout",
     "output_type": "stream",
     "text": [
      "Student Name: anclin stephy\n",
      "Student Age: 21\n",
      "Entrolled Course: Data Analytics\n",
      "Student Name: anclin stephy\n",
      "Student Age: 21\n",
      "Entrolled Course: Data Analytics\n"
     ]
    }
   ],
   "source": [
    "#declare different varieables with meaning ful name following naming conventions (camlsace,snake-case)\n",
    "# camelcase\n",
    "studentname=\"anclin stephy\"\n",
    "studentage=21\n",
    "studententrolledcourse=\"Data Analytics\"\n",
    "print(\"Student Name:\",studentname)\n",
    "print(\"Student Age:\",studentage)\n",
    "print(\"Entrolled Course:\",studententrolledcourse)\n",
    "\n",
    "#snake_case\n",
    "student_name=\"anclin stephy\"\n",
    "student_age=21\n",
    "student_entrolled_course=\"Data Analytics\"\n",
    "print(\"Student Name:\",student_name)\n",
    "print(\"Student Age:\",student_age)\n",
    "print(\"Entrolled Course:\",student_entrolled_course)\n",
    "\n",
    "\n",
    "\n"
   ]
  },
  {
   "cell_type": "code",
   "execution_count": 7,
   "id": "06421681-1d20-4750-9124-6bd96483d91f",
   "metadata": {},
   "outputs": [
    {
     "name": "stdout",
     "output_type": "stream",
     "text": [
      "value of the PI: 3.14159\n",
      "The circumference of a circle is: 31.4159\n"
     ]
    }
   ],
   "source": [
    "#define consonant PI\n",
    "PI=3.14159\n",
    "print(\"value of the PI:\",PI)\n",
    "#circumference of a circle\n",
    "PI=3.14159\n",
    "radius=5\n",
    "circumference=(2*PI*radius)\n",
    "print(\"The circumference of a circle is:\",circumference)\n"
   ]
  },
  {
   "cell_type": "code",
   "execution_count": 13,
   "id": "43dd5b99-5292-4847-9497-35c235a33072",
   "metadata": {},
   "outputs": [
    {
     "name": "stdout",
     "output_type": "stream",
     "text": [
      " Different Items : ['Stephy', 'Python', 38.9, 'Apple', 'Computer']\n",
      "Name: Stephy\n",
      "Language: Python\n",
      "Width: 38.9\n",
      "fruits: Apple\n",
      "Field: Computer\n",
      "After adding orange: ['Stephy', 'Python', 38.9, 'Apple', 'Computer', 'Orenge']\n"
     ]
    }
   ],
   "source": [
    "#declare a list ,acces elements,and perform basic list operations\n",
    "differentitems=[\"Stephy\",\"Python\",38.9,\"Apple\",\"Computer\"]\n",
    "print(\" Different Items :\", differentitems)\n",
    "print(\"Name:\",differentitems[0])\n",
    "print(\"Language:\",differentitems[1])\n",
    "print(\"Width:\",differentitems[2])\n",
    "print(\"fruits:\",differentitems[3])\n",
    "print(\"Field:\",differentitems[4])\n",
    "differentitems.append(\"Orenge\")\n",
    "print(\"After adding orange:\", differentitems)\n"
   ]
  },
  {
   "cell_type": "code",
   "execution_count": 14,
   "id": "a3cc1e32-d387-4e91-9a1d-07b57a58ef71",
   "metadata": {},
   "outputs": [
    {
     "name": "stdout",
     "output_type": "stream",
     "text": [
      "Sum of Two Numbers: 135\n"
     ]
    }
   ],
   "source": [
    "#sum of Two  numbers\n",
    "Num1=45\n",
    "Num2=90\n",
    "result=Num1+Num2\n",
    "print(\"Sum of Two Numbers:\",result)"
   ]
  },
  {
   "cell_type": "code",
   "execution_count": 17,
   "id": "b20cf94f-fff3-489c-b0d1-1227621c3e57",
   "metadata": {},
   "outputs": [
    {
     "name": "stdout",
     "output_type": "stream",
     "text": [
      "The area of the circle is: 153.93804002589985\n"
     ]
    }
   ],
   "source": [
    "#program to find the area of a circle\n",
    "import math\n",
    "radius=7\n",
    "area = math.pi*(radius ** 2)\n",
    "print(\"The area of the circle is:\", area)\n"
   ]
  },
  {
   "cell_type": "code",
   "execution_count": 18,
   "id": "569dec5b-8c31-46f6-abfd-f82c9b4e4c04",
   "metadata": {},
   "outputs": [
    {
     "name": "stdout",
     "output_type": "stream",
     "text": [
      "Area of the rectangle is: 240\n"
     ]
    }
   ],
   "source": [
    "#Area of the rectangle\n",
    "length=30\n",
    "width=8\n",
    "area=length*width\n",
    "print(\"Area of the rectangle is:\",area)"
   ]
  },
  {
   "cell_type": "code",
   "execution_count": 19,
   "id": "926d3b2d-5e87-4485-8be1-58da674c7b7d",
   "metadata": {},
   "outputs": [
    {
     "name": "stdout",
     "output_type": "stream",
     "text": [
      "Area of the triangle is: 120.0\n"
     ]
    }
   ],
   "source": [
    "#find the area of triangle\n",
    "base=30\n",
    "height=8\n",
    "area=(base*height)/2\n",
    "print(\"Area of the triangle is:\",area)"
   ]
  },
  {
   "cell_type": "code",
   "execution_count": 20,
   "id": "b3011e21-3bac-40ef-8a94-a593deb13499",
   "metadata": {},
   "outputs": [
    {
     "name": "stdout",
     "output_type": "stream",
     "text": [
      "Select an operation to perform:\n",
      "1. Addition\n",
      "2. Subtraction\n",
      "3. Multiplication\n",
      "4. Division\n"
     ]
    },
    {
     "name": "stdin",
     "output_type": "stream",
     "text": [
      "Enter choice (1/2/3/4):  1\n",
      "Enter first number:  34\n",
      "Enter second number:  35\n"
     ]
    },
    {
     "name": "stdout",
     "output_type": "stream",
     "text": [
      "The result of addition is: 69.0\n"
     ]
    }
   ],
   "source": [
    "#simple calculater\n",
    "print(\"Select an operation to perform:\")\n",
    "print(\"1. Addition\")\n",
    "print(\"2. Subtraction\")\n",
    "print(\"3. Multiplication\")\n",
    "print(\"4. Division\")\n",
    "choice = input(\"Enter choice (1/2/3/4): \")\n",
    "num1 = float(input(\"Enter first number: \"))\n",
    "num2 = float(input(\"Enter second number: \"))\n",
    "if choice == '1':\n",
    "    result = num1 + num2\n",
    "    print(f\"The result of addition is: {result}\")\n",
    "elif choice == '2':\n",
    "    result = num1 - num2\n",
    "    print(f\"The result of subtraction is: {result}\")\n",
    "elif choice == '3':\n",
    "    result = num1 * num2\n",
    "    print(f\"The result of multiplication is: {result}\")\n",
    "elif choice == '4':\n",
    "    if num2 != 0:\n",
    "        result = num1 / num2\n",
    "        print(f\"The result of division is: {result}\")\n",
    "    else:\n",
    "        print(\"Error! Division by zero is not allowed.\")\n",
    "else:\n",
    "    print(\"Invalid choice. Please select a valid option.\")\n"
   ]
  },
  {
   "cell_type": "code",
   "execution_count": 1,
   "id": "fef36f0d-be0e-452d-bf98-c663d9f1e7c4",
   "metadata": {},
   "outputs": [
    {
     "name": "stdout",
     "output_type": "stream",
     "text": [
      "Initial value of x: 10\n",
      "After x += 5: 15\n",
      "After x -= 3: 12\n",
      "After x *= 2: 24\n",
      "After x /= 4: 6.0\n"
     ]
    }
   ],
   "source": [
    "# Using assignment operators\n",
    "x = 10   \n",
    "print(\"Initial value of x:\", x)\n",
    "x += 5  \n",
    "print(\"After x += 5:\", x)\n",
    "x -= 3   \n",
    "print(\"After x -= 3:\", x)\n",
    "x *= 2  \n",
    "print(\"After x *= 2:\", x)\n",
    "x /= 4   \n",
    "print(\"After x /= 4:\", x)\n"
   ]
  },
  {
   "cell_type": "code",
   "execution_count": 2,
   "id": "61df0bff-1375-445d-b100-c1d0aa969447",
   "metadata": {},
   "outputs": [
    {
     "name": "stdout",
     "output_type": "stream",
     "text": [
      "initial value of x: 10\n",
      "after x+=5: 15\n",
      "after x-=3: 12\n"
     ]
    }
   ],
   "source": [
    "#use increment decrement operator\n",
    "x=10\n",
    "print(\"initial value of x:\",x)\n",
    "x+=5\n",
    "print(\"after x+=5:\",x)\n",
    "x-=3\n",
    "print(\"after x-=3:\",x)"
   ]
  },
  {
   "cell_type": "code",
   "execution_count": 6,
   "id": "55e16731-397a-4292-b3c5-f1f157a32ba1",
   "metadata": {},
   "outputs": [
    {
     "name": "stdout",
     "output_type": "stream",
     "text": [
      "Double equal: False\n",
      "Not equal: True\n",
      "Greater than: False\n",
      "Less than: True\n",
      "Greater than or equal: False\n",
      "Less than or equal: True\n"
     ]
    }
   ],
   "source": [
    "#use comaprission operator\n",
    "num1=100\n",
    "num2=200\n",
    "result=(num1==num2)\n",
    "print(\"Double equal:\",result)\n",
    "result=(num1!=num2)\n",
    "print(\"Not equal:\",result)\n",
    "result=(num1>num2)\n",
    "print(\"Greater than:\",result)\n",
    "result=(num1<num2)\n",
    "print(\"Less than:\",result)\n",
    "result=(num1>=num2)\n",
    "print(\"Greater than or equal:\",result)\n",
    "result=(num1<=num2)\n",
    "print(\"Less than or equal:\",result)"
   ]
  },
  {
   "cell_type": "code",
   "execution_count": 8,
   "id": "0fb4a442-f23d-4ca3-88d7-d34e0a63403b",
   "metadata": {},
   "outputs": [
    {
     "name": "stdout",
     "output_type": "stream",
     "text": [
      "a and b: False\n",
      "a or b: True\n",
      " a not: False\n",
      "b not: True\n"
     ]
    }
   ],
   "source": [
    "#use logical operator\n",
    "a=True\n",
    "b=False\n",
    "print(\"a and b:\",a and b)\n",
    "print(\"a or b:\",a or b)\n",
    "print(\" a not:\",not a)\n",
    "print(\"b not:\",not b)"
   ]
  },
  {
   "cell_type": "code",
   "execution_count": 9,
   "id": "71791a38-4abf-4eb5-9fae-709eb1d9d31e",
   "metadata": {},
   "outputs": [
    {
     "name": "stdout",
     "output_type": "stream",
     "text": [
      "Before swapping: a = 100 , b = 200\n",
      "after swapping swapping: a = 200 , b = 100\n"
     ]
    }
   ],
   "source": [
    "#swap two variable\n",
    "a=100\n",
    "b=200\n",
    "print(\"Before swapping: a =\", a, \", b =\", b)\n",
    "temp=a\n",
    "a=b\n",
    "b=temp\n",
    "print(\"after swapping swapping: a =\", a, \", b =\", b)"
   ]
  },
  {
   "cell_type": "code",
   "execution_count": 10,
   "id": "b98c3e33-f227-4988-b672-f5283ef87e91",
   "metadata": {},
   "outputs": [
    {
     "name": "stdout",
     "output_type": "stream",
     "text": [
      "Average of Given numbers: 1.0\n"
     ]
    }
   ],
   "source": [
    "#find average of given numbers\n",
    "int=[120,130,140]\n",
    "a=sum(int)\n",
    "b=sum(int)\n",
    "avg=a/b\n",
    "print(\"Average of Given numbers:\",avg)"
   ]
  },
  {
   "cell_type": "code",
   "execution_count": 11,
   "id": "610898df-ff09-4ff8-b66a-f7a60946c80d",
   "metadata": {},
   "outputs": [
    {
     "name": "stdout",
     "output_type": "stream",
     "text": [
      "perform a compound arithmetic operation: 160.0\n"
     ]
    }
   ],
   "source": [
    "# perform a compound arithimetic operation on four variable\n",
    "a=10\n",
    "b=30\n",
    "c=12\n",
    "d=3\n",
    "int=(a+b)*c/d \n",
    "print(\"perform a compound arithmetic operation:\",int)"
   ]
  },
  {
   "cell_type": "code",
   "execution_count": 19,
   "id": "f6601728-1064-4b2b-8406-e094b69b6bbc",
   "metadata": {},
   "outputs": [
    {
     "name": "stdout",
     "output_type": "stream",
     "text": [
      "Tamil: 100\n",
      "English: 98\n",
      "Maths: 99\n",
      "Science: 97\n",
      "Social: 89\n",
      "Total Marks: 483\n",
      "Average: 96.6\n"
     ]
    }
   ],
   "source": [
    "#program to store 10th grade marks calculate total and average\n",
    "Subject=[100,98,99,97,89]\n",
    "print(\"Tamil:\",Subject[0])\n",
    "print(\"English:\",Subject[1])\n",
    "print(\"Maths:\",Subject[2])\n",
    "print(\"Science:\",Subject[3])\n",
    "print(\"Social:\",Subject[4])\n",
    "Total= 100+98+99+97+89\n",
    "Avg=Total/5\n",
    "print(\"Total Marks:\",Total)\n",
    "print(\"Average:\",Avg)"
   ]
  },
  {
   "cell_type": "code",
   "execution_count": null,
   "id": "a098ac60-8e73-40ed-971a-a974a283cb3c",
   "metadata": {},
   "outputs": [],
   "source": []
  }
 ],
 "metadata": {
  "kernelspec": {
   "display_name": "Python 3 (ipykernel)",
   "language": "python",
   "name": "python3"
  },
  "language_info": {
   "codemirror_mode": {
    "name": "ipython",
    "version": 3
   },
   "file_extension": ".py",
   "mimetype": "text/x-python",
   "name": "python",
   "nbconvert_exporter": "python",
   "pygments_lexer": "ipython3",
   "version": "3.12.4"
  }
 },
 "nbformat": 4,
 "nbformat_minor": 5
}
