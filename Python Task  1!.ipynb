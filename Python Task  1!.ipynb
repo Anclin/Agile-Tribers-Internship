{
 "cells": [
  {
   "cell_type": "code",
   "execution_count": 3,
   "id": "220bcec8-8367-4d9f-8438-6544e732d22b",
   "metadata": {},
   "outputs": [
    {
     "name": "stdout",
     "output_type": "stream",
     "text": [
      "Hello, World!\n"
     ]
    }
   ],
   "source": [
    "#print Hello world\n",
    "print(\"Hello, World!\")\n",
    "      "
   ]
  },
  {
   "cell_type": "code",
   "execution_count": 5,
   "id": "be436faf-2235-41ff-aa6c-2a872ea3cbe0",
   "metadata": {},
   "outputs": [
    {
     "name": "stdout",
     "output_type": "stream",
     "text": [
      "Anclin Stephy\n"
     ]
    }
   ],
   "source": [
    "#print Name\n",
    "print(\"Anclin Stephy\")"
   ]
  },
  {
   "cell_type": "code",
   "execution_count": 9,
   "id": "6478a7f6-8001-4b50-99ce-e21fe2698bd7",
   "metadata": {},
   "outputs": [
    {
     "name": "stdout",
     "output_type": "stream",
     "text": [
      "Anclin Stephy\n",
      "Age: 21\n"
     ]
    }
   ],
   "source": [
    "#print name and age\n",
    "print(\"Anclin Stephy\")\n",
    "print(\"Age:\",21)"
   ]
  },
  {
   "cell_type": "code",
   "execution_count": 14,
   "id": "7ce14e52-4066-40f1-97d3-89da017516e4",
   "metadata": {},
   "outputs": [
    {
     "name": "stdout",
     "output_type": "stream",
     "text": [
      "Name: Anclin Stephy\n",
      "Age: 21\n",
      "Height: 7.6\n",
      "is_student: True\n"
     ]
    }
   ],
   "source": [
    "#declare and use different data types\n",
    "#string\n",
    "name=\"Anclin Stephy\"\n",
    "print(\"Name:\",name)\n",
    "#integer\n",
    "age=21\n",
    "print(\"Age:\",age)\n",
    "#Float\n",
    "height=7.6\n",
    "print(\"Height:\",height)\n",
    "#Boolean\n",
    "is_student=True\n",
    "print(\"is_student:\",is_student)"
   ]
  },
  {
   "cell_type": "code",
   "execution_count": 16,
   "id": "8f7b409f-69d7-494e-910b-f2047f6962d8",
   "metadata": {},
   "outputs": [
    {
     "name": "stdout",
     "output_type": "stream",
     "text": [
      "fullname: Anclin stephy\n",
      "fullname: Anclin stephy\n"
     ]
    }
   ],
   "source": [
    "#String Concatination(+)\n",
    "firstname=\"Anclin\"\n",
    "lastname=\"stephy\"\n",
    "fullname=firstname+\" \"+lastname\n",
    "print(\"fullname:\",fullname)\n",
    "#string concatination(f-string)\n",
    "firstname=\"Anclin\"\n",
    "lastname=\"stephy\"\n",
    "fullname=f\"{firstname} {lastname}\"\n",
    "print(\"fullname:\",fullname)"
   ]
  },
  {
   "cell_type": "code",
   "execution_count": 17,
   "id": "0d2391be-83bc-4721-a267-700cdb433188",
   "metadata": {},
   "outputs": [
    {
     "name": "stdout",
     "output_type": "stream",
     "text": [
      "name: Anclin Stephy\n",
      "age: 21\n"
     ]
    }
   ],
   "source": [
    "#Declare and print variables(name)\n",
    "name=\"Anclin Stephy\"\n",
    "print(\"name:\",name)\n",
    "#Declare and print variables(age)\n",
    "age=21\n",
    "print(\"age:\",age)"
   ]
  },
  {
   "cell_type": "code",
   "execution_count": 20,
   "id": "ed6643ac-2c40-4a40-8346-73dd21d229cb",
   "metadata": {},
   "outputs": [
    {
     "name": "stdout",
     "output_type": "stream",
     "text": [
      "addition: 30\n",
      "substraction: 10\n",
      "multiplication: 75\n",
      "division: 9.0\n"
     ]
    }
   ],
   "source": [
    "#perform matheetical calculation\n",
    "#addition\n",
    "num1=10\n",
    "num2=20\n",
    "result=num1+num2\n",
    "print(\"addition:\",result)\n",
    "#substaction\n",
    "num1=20\n",
    "num2=10\n",
    "result=num1-num2\n",
    "print(\"substraction:\",result)\n",
    "#multiplication\n",
    "num1=25\n",
    "num2=3\n",
    "result=num1*num2\n",
    "print(\"multiplication:\",result)\n",
    "#division\n",
    "num1=45\n",
    "num2=5\n",
    "result=num1/num2\n",
    "print(\"division:\",result)"
   ]
  },
  {
   "cell_type": "code",
   "execution_count": 23,
   "id": "a7344293-5390-422e-84f5-24c0abe8cd36",
   "metadata": {},
   "outputs": [
    {
     "name": "stdout",
     "output_type": "stream",
     "text": [
      "Data Analyst Skill Set: ['Microsoft Excel', 'Microsoft PowerBI', 'Python', 'SQL']\n",
      "first skill: Microsoft Excel\n",
      "second skill: Microsoft PowerBI\n",
      "third skill: Python\n",
      "fourth skill: SQL\n"
     ]
    }
   ],
   "source": [
    "#declare and print a list\n",
    "skills=[\"Microsoft Excel\",\"Microsoft PowerBI\",\"Python\",\"SQL\"]\n",
    "print(\"Data Analyst Skill Set:\",skills)\n",
    "print(\"first skill:\",skills[0])\n",
    "print(\"second skill:\",skills[1])\n",
    "print(\"third skill:\",skills[2])\n",
    "print(\"fourth skill:\",skills[3])"
   ]
  },
  {
   "cell_type": "code",
   "execution_count": 28,
   "id": "329289bb-4f50-4641-9c1e-135168bfda33",
   "metadata": {},
   "outputs": [
    {
     "name": "stdout",
     "output_type": "stream",
     "text": [
      "*\n",
      "**\n",
      "***\n",
      "****\n",
      "*****\n",
      "******\n",
      "*******\n",
      "********\n",
      "*********\n",
      "**********\n"
     ]
    }
   ],
   "source": [
    "# print simple pattern\n",
    "n=10\n",
    "for i in range(1,n+1):\n",
    "    print(\"*\" *i)\n",
    "    \n"
   ]
  },
  {
   "cell_type": "code",
   "execution_count": 29,
   "id": "f9b10c50-2be5-41c1-ae34-c82e0fc33b35",
   "metadata": {},
   "outputs": [
    {
     "name": "stdout",
     "output_type": "stream",
     "text": [
      "name: Anclin stephy\n",
      "age: 21\n",
      "is_student: True\n"
     ]
    }
   ],
   "source": [
    "#declare and modify variables\n",
    "#name\n",
    "name=\"Anclin stephy\"\n",
    "print(\"name:\",name)\n",
    "#Age\n",
    "age=21\n",
    "print(\"age:\",age)\n",
    "#is_student\n",
    "is_student=True\n",
    "print(\"is_student:\",is_student)"
   ]
  },
  {
   "cell_type": "code",
   "execution_count": 32,
   "id": "2a63a03b-46f8-4ff4-b11b-a42da264ac9a",
   "metadata": {},
   "outputs": [
    {
     "name": "stdout",
     "output_type": "stream",
     "text": [
      "initial name: anclin\n",
      "initial age: 21\n",
      "is_student: True\n",
      "Modified name: stephy\n",
      "Modified age: 22\n",
      "is_student: False\n"
     ]
    }
   ],
   "source": [
    "# print and modify variable values\n",
    "name=\"anclin\"\n",
    "age=21\n",
    "is_student=True\n",
    "print(\"initial name:\",name)\n",
    "print(\"initial age:\",age)\n",
    "print(\"is_student:\",is_student)\n",
    "name=\"stephy\"\n",
    "age+=1\n",
    "is_student=False\n",
    "print(\"Modified name:\",name)\n",
    "print(\"Modified age:\",age)\n",
    "print(\"is_student:\",is_student)"
   ]
  }
 ],
 "metadata": {
  "kernelspec": {
   "display_name": "Python 3 (ipykernel)",
   "language": "python",
   "name": "python3"
  },
  "language_info": {
   "codemirror_mode": {
    "name": "ipython",
    "version": 3
   },
   "file_extension": ".py",
   "mimetype": "text/x-python",
   "name": "python",
   "nbconvert_exporter": "python",
   "pygments_lexer": "ipython3",
   "version": "3.12.4"
  }
 },
 "nbformat": 4,
 "nbformat_minor": 5
}
