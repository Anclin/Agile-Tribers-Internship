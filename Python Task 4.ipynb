{
 "cells": [
  {
   "cell_type": "code",
   "execution_count": 14,
   "id": "ac99c4a3-bf1d-4b97-a0cc-0ed13423aad3",
   "metadata": {},
   "outputs": [
    {
     "name": "stdin",
     "output_type": "stream",
     "text": [
      "Enter the number -8\n"
     ]
    },
    {
     "name": "stdout",
     "output_type": "stream",
     "text": [
      "The number is negative. -8\n"
     ]
    }
   ],
   "source": [
    "# number is positive or negative\n",
    "num=int(input(\"Enter the number\"))\n",
    "if num > 0:\n",
    "     print(\"The number is positive\",num)\n",
    "elif num < 0:\n",
    "    print(\"The number is negative.\",num)\n"
   ]
  },
  {
   "cell_type": "code",
   "execution_count": 16,
   "id": "39f6fd36-1c02-4d1b-8fe3-7997ef474cae",
   "metadata": {},
   "outputs": [
    {
     "name": "stdin",
     "output_type": "stream",
     "text": [
      "Enter the number 45\n"
     ]
    },
    {
     "name": "stdout",
     "output_type": "stream",
     "text": [
      "The number is odd 45\n"
     ]
    }
   ],
   "source": [
    "#identyfy number is odd or even\n",
    "num=int(input(\"Enter the number\"))\n",
    "if num % 2== 0:\n",
    "        print(\"The number is even\",num)\n",
    "else:\n",
    "        print(\"The number is odd\",num)\n"
   ]
  },
  {
   "cell_type": "code",
   "execution_count": 18,
   "id": "40951ff8-61e0-411c-a954-bfe271c31bf8",
   "metadata": {},
   "outputs": [
    {
     "name": "stdin",
     "output_type": "stream",
     "text": [
      "Enter the base 5\n",
      "Enter the exponent 2\n"
     ]
    },
    {
     "name": "stdout",
     "output_type": "stream",
     "text": [
      "5 raised to the power of 2 is 25\n"
     ]
    }
   ],
   "source": [
    "#calculate the power of a number\n",
    "base=int(input(\"Enter the base\"))\n",
    "exponent=int(input(\"Enter the exponent\"))\n",
    "result=base**exponent\n",
    "print(f\"{base} raised to the power of {exponent} is {result}\")"
   ]
  },
  {
   "cell_type": "code",
   "execution_count": 26,
   "id": "5480c128-9ead-4fbd-90b0-fef91737235d",
   "metadata": {},
   "outputs": [
    {
     "name": "stdin",
     "output_type": "stream",
     "text": [
      "Enter the number 45\n",
      "Enter the number 90\n"
     ]
    },
    {
     "name": "stdout",
     "output_type": "stream",
     "text": [
      "The lessthan number is 45\n"
     ]
    }
   ],
   "source": [
    "#compare to numbers\n",
    "num1=int(input(\"Enter the number\"))\n",
    "num2=int(input(\"Enter the number\"))\n",
    "if num1 > num2:\n",
    "         print(f\"The greater number is {num1}\")\n",
    "elif num1 < num2:\n",
    "         print(f\"The lessthan number is {num1}\")"
   ]
  },
  {
   "cell_type": "code",
   "execution_count": 28,
   "id": "84173ed1-acc3-4f71-8086-b10ae8f6faf7",
   "metadata": {},
   "outputs": [
    {
     "name": "stdin",
     "output_type": "stream",
     "text": [
      "Enter a year:  2000\n"
     ]
    },
    {
     "name": "stdout",
     "output_type": "stream",
     "text": [
      "2000 is a leap year.\n"
     ]
    }
   ],
   "source": [
    "#determine if a  year is a leap year\n",
    "year = int(input(\"Enter a year: \"))\n",
    "if (year % 4 == 0 and year % 100 != 0) or (year % 400 == 0):\n",
    "    print(f\"{year} is a leap year.\")\n",
    "else:\n",
    "    print(f\"{year} is not a leap year.\")\n",
    "\n"
   ]
  },
  {
   "cell_type": "code",
   "execution_count": 1,
   "id": "1f87a6d9-659f-4539-b4fe-2b2fdcc5e89c",
   "metadata": {},
   "outputs": [
    {
     "name": "stdin",
     "output_type": "stream",
     "text": [
      "Enter your marks:  56\n"
     ]
    },
    {
     "name": "stdout",
     "output_type": "stream",
     "text": [
      "Your grade is: D\n"
     ]
    }
   ],
   "source": [
    "#Grade Calculater\n",
    "marks = int(input(\"Enter your marks: \"))\n",
    "if marks >= 90:\n",
    "    grade = \"A+\"\n",
    "elif marks >= 80:\n",
    "    grade = \"A\"\n",
    "elif marks >= 70:\n",
    "    grade = \"B\"\n",
    "elif marks >= 60:\n",
    "    grade = \"C\"\n",
    "elif marks >= 50:\n",
    "    grade = \"D\"\n",
    "else:\n",
    "    grade = \"F\"\n",
    "print(\"Your grade is:\", grade)\n"
   ]
  },
  {
   "cell_type": "code",
   "execution_count": 2,
   "id": "be577d51-f267-43b5-97c1-b4ef410ad77a",
   "metadata": {},
   "outputs": [
    {
     "name": "stdin",
     "output_type": "stream",
     "text": [
      "Enter your age: 45\n"
     ]
    },
    {
     "name": "stdout",
     "output_type": "stream",
     "text": [
      "You can do pretty much anything 45\n"
     ]
    }
   ],
   "source": [
    "#age based messages\n",
    "age=int(input(\"Enter your age:\"))\n",
    "if age < 16:\n",
    "    print(\"You can't drive\",age)\n",
    "elif 16 <= age <= 17:\n",
    "    print (\"You can drive but not vote\",age)\n",
    "elif 18 <= age <=24:\n",
    "    print(\"You can vote but not  rent a car\",age)\n",
    "elif age>= 25:\n",
    "    print(\"You can do pretty much anything\",age)\n",
    "    "
   ]
  },
  {
   "cell_type": "code",
   "execution_count": 3,
   "id": "46292ad7-1515-4434-80e9-8e4b5204aecc",
   "metadata": {},
   "outputs": [
    {
     "name": "stdout",
     "output_type": "stream",
     "text": [
      "1\n",
      "2\n",
      "Fizz\n",
      "4\n",
      "Buzz\n",
      "Fizz\n",
      "7\n",
      "8\n",
      "Fizz\n",
      "Buzz\n",
      "11\n",
      "Fizz\n",
      "13\n",
      "14\n",
      "FizzBuzz\n",
      "16\n",
      "17\n",
      "Fizz\n",
      "19\n",
      "Buzz\n",
      "Fizz\n",
      "22\n",
      "23\n",
      "Fizz\n",
      "Buzz\n",
      "26\n",
      "Fizz\n",
      "28\n",
      "29\n",
      "FizzBuzz\n",
      "31\n",
      "32\n",
      "Fizz\n",
      "34\n",
      "Buzz\n",
      "Fizz\n",
      "37\n",
      "38\n",
      "Fizz\n",
      "Buzz\n",
      "41\n",
      "Fizz\n",
      "43\n",
      "44\n",
      "FizzBuzz\n",
      "46\n",
      "47\n",
      "Fizz\n",
      "49\n",
      "Buzz\n",
      "Fizz\n",
      "52\n",
      "53\n",
      "Fizz\n",
      "Buzz\n",
      "56\n",
      "Fizz\n",
      "58\n",
      "59\n",
      "FizzBuzz\n",
      "61\n",
      "62\n",
      "Fizz\n",
      "64\n",
      "Buzz\n",
      "Fizz\n",
      "67\n",
      "68\n",
      "Fizz\n",
      "Buzz\n",
      "71\n",
      "Fizz\n",
      "73\n",
      "74\n",
      "FizzBuzz\n",
      "76\n",
      "77\n",
      "Fizz\n",
      "79\n",
      "Buzz\n",
      "Fizz\n",
      "82\n",
      "83\n",
      "Fizz\n",
      "Buzz\n",
      "86\n",
      "Fizz\n",
      "88\n",
      "89\n",
      "FizzBuzz\n",
      "91\n",
      "92\n",
      "Fizz\n",
      "94\n",
      "Buzz\n",
      "Fizz\n",
      "97\n",
      "98\n",
      "Fizz\n",
      "Buzz\n"
     ]
    }
   ],
   "source": [
    "# Print numbers from 1 to 100 with FizzBuzz logic\n",
    "for i in range(1, 101):\n",
    "    if i % 3 == 0 and i % 5 == 0:\n",
    "        print(\"FizzBuzz\")  \n",
    "    elif i % 3 == 0:\n",
    "        print(\"Fizz\")  \n",
    "    elif i % 5 == 0:\n",
    "        print(\"Buzz\") \n",
    "    else:\n",
    "        print(i)  "
   ]
  },
  {
   "cell_type": "code",
   "execution_count": 4,
   "id": "7552e1d6-9f07-49e0-96bd-c1b695755631",
   "metadata": {},
   "outputs": [
    {
     "name": "stdin",
     "output_type": "stream",
     "text": [
      "Enter a year:  2006\n"
     ]
    },
    {
     "name": "stdout",
     "output_type": "stream",
     "text": [
      "2006 is not a leap year.\n"
     ]
    }
   ],
   "source": [
    "#leap year conditions\n",
    "year = int(input(\"Enter a year: \"))\n",
    "if (year % 4 == 0 and year % 100 != 0) or (year % 400 == 0):\n",
    "    print(year, \"is a leap year.\")\n",
    "else:\n",
    "    print(year, \"is not a leap year.\")\n"
   ]
  },
  {
   "cell_type": "code",
   "execution_count": null,
   "id": "dd16cc4d-3c0f-4638-81b9-5427f9ccf9da",
   "metadata": {},
   "outputs": [],
   "source": []
  }
 ],
 "metadata": {
  "kernelspec": {
   "display_name": "Python 3 (ipykernel)",
   "language": "python",
   "name": "python3"
  },
  "language_info": {
   "codemirror_mode": {
    "name": "ipython",
    "version": 3
   },
   "file_extension": ".py",
   "mimetype": "text/x-python",
   "name": "python",
   "nbconvert_exporter": "python",
   "pygments_lexer": "ipython3",
   "version": "3.12.4"
  }
 },
 "nbformat": 4,
 "nbformat_minor": 5
}
