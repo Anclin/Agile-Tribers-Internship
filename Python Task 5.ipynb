{
 "cells": [
  {
   "cell_type": "code",
   "execution_count": 3,
   "id": "135b3ad6-3056-4886-978e-5514cb3074fe",
   "metadata": {},
   "outputs": [
    {
     "name": "stdout",
     "output_type": "stream",
     "text": [
      "1\n",
      "2\n",
      "3\n",
      "4\n",
      "5\n",
      "6\n",
      "7\n",
      "8\n",
      "9\n",
      "10\n"
     ]
    }
   ],
   "source": [
    "# print number 1 to 100\n",
    "for i in range(1,11):\n",
    "    print(i)"
   ]
  },
  {
   "cell_type": "code",
   "execution_count": 4,
   "id": "194aa576-4b69-4f77-b59f-9446ce9c7231",
   "metadata": {},
   "outputs": [
    {
     "name": "stdout",
     "output_type": "stream",
     "text": [
      "2\n",
      "4\n",
      "6\n",
      "8\n",
      "10\n",
      "12\n",
      "14\n",
      "16\n",
      "18\n",
      "20\n"
     ]
    }
   ],
   "source": [
    "#print even number\n",
    "for i in range(2,21,2):\n",
    "    print(i)"
   ]
  },
  {
   "cell_type": "code",
   "execution_count": 7,
   "id": "bb6682b7-5c59-40a1-990b-ed79125f4251",
   "metadata": {},
   "outputs": [
    {
     "name": "stdout",
     "output_type": "stream",
     "text": [
      "1\n",
      "3\n",
      "5\n",
      "7\n",
      "9\n",
      "11\n",
      "13\n",
      "15\n",
      "17\n",
      "19\n"
     ]
    }
   ],
   "source": [
    "#print odd numbers\n",
    "for i in range(1,21,2):\n",
    "    print(i)"
   ]
  },
  {
   "cell_type": "code",
   "execution_count": 8,
   "id": "5f67eda0-e2ff-4a31-9dea-a0c6a7d3d44e",
   "metadata": {},
   "outputs": [
    {
     "name": "stdin",
     "output_type": "stream",
     "text": [
      "Enter a number:  2\n"
     ]
    },
    {
     "name": "stdout",
     "output_type": "stream",
     "text": [
      "The factorial of 2 is 2.\n"
     ]
    }
   ],
   "source": [
    "#calculate factoril number\n",
    "num = int(input(\"Enter a number: \"))\n",
    "factorial = 1\n",
    "\n",
    "if num < 0:\n",
    "    print(\"Factorial is not defined for negative numbers.\")\n",
    "elif num == 0 or num == 1:\n",
    "    print(f\"The factorial of {num} is 1.\")\n",
    "else:\n",
    "    for i in range(1, num + 1):\n",
    "        factorial *= i\n",
    "    print(f\"The factorial of {num} is {factorial}.\")\n"
   ]
  },
  {
   "cell_type": "code",
   "execution_count": 10,
   "id": "bff90b61-4ccc-44b7-b56f-af230aadebe3",
   "metadata": {},
   "outputs": [
    {
     "name": "stdout",
     "output_type": "stream",
     "text": [
      "Sum of number from 1 to 100: 5050\n"
     ]
    }
   ],
   "source": [
    "#sum of number using for loop\n",
    "sumnumber=0\n",
    "for i in range(1,101):\n",
    "    sumnumber+=i\n",
    "print(\"Sum of number from 1 to 100:\",sumnumber)"
   ]
  },
  {
   "cell_type": "code",
   "execution_count": 11,
   "id": "d4942b44-1c07-4a8d-963f-35a9e636dda6",
   "metadata": {},
   "outputs": [
    {
     "name": "stdout",
     "output_type": "stream",
     "text": [
      "Average number in the list : 30.0\n"
     ]
    }
   ],
   "source": [
    "#average number in a list\n",
    "num=[10,20,30,40,50]\n",
    "sumnum=sum(num)\n",
    "countnum=len(num)\n",
    "avg=sumnum/countnum\n",
    "print(\"Average number in the list :\",avg)"
   ]
  },
  {
   "cell_type": "code",
   "execution_count": 13,
   "id": "2ce87c2d-cf8b-4716-9f4a-9a80134886f8",
   "metadata": {},
   "outputs": [
    {
     "name": "stdout",
     "output_type": "stream",
     "text": [
      "* \n",
      "* * \n",
      "* * * \n",
      "* * * * \n",
      "* * * * * \n"
     ]
    }
   ],
   "source": [
    "#draw patterns using nested loops\n",
    "\n",
    "#triangle\n",
    "n = 5\n",
    "for i in range(1, n + 1):\n",
    "    for j in range(1, i + 1):\n",
    "        print(\"*\", end=\" \")\n",
    "    print()\n"
   ]
  },
  {
   "cell_type": "code",
   "execution_count": 14,
   "id": "f2619011-78fe-487a-ae3c-86ff63c41fc8",
   "metadata": {},
   "outputs": [
    {
     "name": "stdout",
     "output_type": "stream",
     "text": [
      "    * \n",
      "   * * \n",
      "  * * * \n",
      " * * * * \n",
      "* * * * * \n",
      " * * * * \n",
      "  * * * \n",
      "   * * \n",
      "    * \n"
     ]
    }
   ],
   "source": [
    "#diamond\n",
    "n = 5\n",
    "for i in range(1, n + 1):\n",
    "    for j in range(n - i):\n",
    "        print(\" \", end=\"\")\n",
    "    for k in range(1, i + 1):\n",
    "        print(\"*\", end=\" \")\n",
    "    print()\n",
    "for i in range(n - 1, 0, -1):\n",
    "    for j in range(n - i):\n",
    "        print(\" \", end=\"\")\n",
    "    for k in range(1, i + 1):\n",
    "        print(\"*\", end=\" \")\n",
    "    print()\n"
   ]
  },
  {
   "cell_type": "code",
   "execution_count": 15,
   "id": "a79549a2-7241-44a7-aa44-e484bd659942",
   "metadata": {},
   "outputs": [
    {
     "name": "stdout",
     "output_type": "stream",
     "text": [
      "* * * * * \n",
      "* * * * * \n",
      "* * * * * \n",
      "* * * * * \n",
      "* * * * * \n"
     ]
    }
   ],
   "source": [
    "#Square\n",
    "n = 5 \n",
    "for i in range(n):\n",
    "    for j in range(n):\n",
    "        print(\"*\", end=\" \")\n",
    "    print()\n"
   ]
  },
  {
   "cell_type": "code",
   "execution_count": 18,
   "id": "01e7e219-3263-4f11-852b-ea7c27abe998",
   "metadata": {},
   "outputs": [
    {
     "name": "stdout",
     "output_type": "stream",
     "text": [
      "0\n",
      "1\n",
      "2\n",
      "3\n",
      "4\n",
      "5\n",
      "6\n",
      "7\n",
      "8\n",
      "9\n",
      "10\n"
     ]
    }
   ],
   "source": [
    "#natural number\n",
    "for i in range(0,11):\n",
    "    print(i)"
   ]
  },
  {
   "cell_type": "code",
   "execution_count": 23,
   "id": "cb7c8005-66bf-4d1e-990e-66b836036ad6",
   "metadata": {},
   "outputs": [
    {
     "name": "stdout",
     "output_type": "stream",
     "text": [
      "True\n"
     ]
    }
   ],
   "source": [
    "# print the last number is same\n",
    "num= [10, 20, 30, 40, 10]\n",
    "result = num[0] == num[-1]\n",
    "print(result)"
   ]
  },
  {
   "cell_type": "code",
   "execution_count": 25,
   "id": "09f50f3e-194b-4a02-8289-09d281cfc25a",
   "metadata": {},
   "outputs": [
    {
     "name": "stdout",
     "output_type": "stream",
     "text": [
      "10\n",
      "20\n",
      "30\n",
      "40\n",
      "50\n",
      "60\n",
      "70\n"
     ]
    }
   ],
   "source": [
    "#divisible by 5\n",
    "num=[10,20,30,40,50,60,70,78,67,54,33]\n",
    "for num in num:\n",
    "    if num % 5 == 0:\n",
    "        print(num)"
   ]
  },
  {
   "cell_type": "code",
   "execution_count": 26,
   "id": "1352a2d8-0913-44dd-9f24-a8a2fba76947",
   "metadata": {},
   "outputs": [
    {
     "name": "stdin",
     "output_type": "stream",
     "text": [
      "Enter the number 23\n"
     ]
    },
    {
     "name": "stdout",
     "output_type": "stream",
     "text": [
      "this number is not divsible by 5 23\n"
     ]
    }
   ],
   "source": [
    "num=int(input(\"Enter the number\"))\n",
    "if num % 5==0:\n",
    "    print(\"this number is Divisible By 5\",num)\n",
    "else:\n",
    "    print(\"this number is not divsible by 5\",num)"
   ]
  },
  {
   "cell_type": "code",
   "execution_count": 29,
   "id": "f0b545de-b305-4c42-bc73-54b5a505a648",
   "metadata": {},
   "outputs": [
    {
     "name": "stdin",
     "output_type": "stream",
     "text": [
      "Enter a character:  e\n"
     ]
    },
    {
     "name": "stdout",
     "output_type": "stream",
     "text": [
      "e is a vowel.\n"
     ]
    }
   ],
   "source": [
    "#vowel or consonant\n",
    "ch = input(\"Enter a character: \").lower()\n",
    "if ch in ('a', 'e', 'i', 'o', 'u'):\n",
    "    print(f\"{ch} is a vowel.\")\n",
    "elif ch.isalpha():\n",
    "    print(f\"{ch} is a consonant.\")\n",
    "else:\n",
    "    print(\"it is a consonant\")\n"
   ]
  },
  {
   "cell_type": "code",
   "execution_count": 30,
   "id": "3bdb2809-dda5-4122-b445-bef1e17d411a",
   "metadata": {},
   "outputs": [
    {
     "name": "stdout",
     "output_type": "stream",
     "text": [
      "Even numbers between 10 and 55:\n",
      "10\n",
      "12\n",
      "14\n",
      "16\n",
      "18\n",
      "20\n",
      "22\n",
      "24\n",
      "26\n",
      "28\n",
      "30\n",
      "32\n",
      "34\n",
      "36\n",
      "38\n",
      "40\n",
      "42\n",
      "44\n",
      "46\n",
      "48\n",
      "50\n",
      "52\n",
      "54\n",
      "\n",
      "Odd numbers between 10 and 55:\n",
      "11\n",
      "13\n",
      "15\n",
      "17\n",
      "19\n",
      "21\n",
      "23\n",
      "25\n",
      "27\n",
      "29\n",
      "31\n",
      "33\n",
      "35\n",
      "37\n",
      "39\n",
      "41\n",
      "43\n",
      "45\n",
      "47\n",
      "49\n",
      "51\n",
      "53\n",
      "55\n"
     ]
    }
   ],
   "source": [
    "# Print even numbers\n",
    "print(\"Even numbers between 10 and 55:\")\n",
    "for i in range(10, 56):\n",
    "    if i % 2 == 0:\n",
    "        print(i)\n",
    "\n",
    "# Print odd numbers\n",
    "print(\"\\nOdd numbers between 10 and 55:\")\n",
    "for i in range(10, 56):\n",
    "    if i % 2 != 0:\n",
    "        print(i)\n"
   ]
  },
  {
   "cell_type": "code",
   "execution_count": 31,
   "id": "dc3f6e0f-54c6-45c5-a35f-ef2a6dfe287d",
   "metadata": {},
   "outputs": [
    {
     "name": "stdout",
     "output_type": "stream",
     "text": [
      "The factorial of 3 is 6\n",
      "The factorial of 5 is 120\n",
      "The factorial of 7 is 5040\n",
      "The factorial of 4 is 24\n",
      "The factorial of 6 is 720\n"
     ]
    }
   ],
   "source": [
    "#calculate factorial of each element in a list\n",
    "import math\n",
    "numbers = [3, 5, 7, 4, 6]\n",
    "for num in numbers:\n",
    "    factorial = math.factorial(num)\n",
    "    print(f\"The factorial of {num} is {factorial}\")\n"
   ]
  },
  {
   "cell_type": "code",
   "execution_count": 32,
   "id": "269e8484-b5d8-429f-8193-f043755d0f50",
   "metadata": {},
   "outputs": [
    {
     "name": "stdin",
     "output_type": "stream",
     "text": [
      "Enter the first number:  12\n",
      "Enter the second number:  23\n"
     ]
    },
    {
     "name": "stdout",
     "output_type": "stream",
     "text": [
      "The product of 12 and 23 is: 276\n"
     ]
    }
   ],
   "source": [
    "#Product or Sum of Two Integers\n",
    "num1 = int(input(\"Enter the first number: \"))\n",
    "num2 = int(input(\"Enter the second number: \"))\n",
    "product = num1 * num2\n",
    "if product > 500:\n",
    "    result = num1 + num2\n",
    "    print(f\"Product is greater than 500, so the sum is: {result}\")\n",
    "else:\n",
    "    print(f\"The product of {num1} and {num2} is: {product}\")\n"
   ]
  },
  {
   "cell_type": "code",
   "execution_count": 33,
   "id": "2cb91e6b-db34-46b4-8832-6c1eb8bd7827",
   "metadata": {},
   "outputs": [
    {
     "name": "stdin",
     "output_type": "stream",
     "text": [
      "Enter the first number:  25\n",
      "Enter the second number:  79\n"
     ]
    },
    {
     "name": "stdout",
     "output_type": "stream",
     "text": [
      "The greater number is: 79\n"
     ]
    }
   ],
   "source": [
    "#greatest two number\n",
    "num1 = int(input(\"Enter the first number: \"))\n",
    "num2 = int(input(\"Enter the second number: \"))\n",
    "if num1 > num2:\n",
    "    print(f\"The greater number is: {num1}\")\n",
    "elif num1 < num2:\n",
    "    print(f\"The greater number is: {num2}\")\n",
    "else:\n",
    "    print(\"Both numbers are equal.\")\n"
   ]
  },
  {
   "cell_type": "code",
   "execution_count": 34,
   "id": "2887f462-1d9c-41c7-b5b8-8ca3379f0b7e",
   "metadata": {},
   "outputs": [
    {
     "name": "stdin",
     "output_type": "stream",
     "text": [
      "Enter the first number:  23\n",
      "Enter the second number:  56\n",
      "Enter the third number:  90\n"
     ]
    },
    {
     "name": "stdout",
     "output_type": "stream",
     "text": [
      "The greatest number is: 90\n"
     ]
    }
   ],
   "source": [
    "# Greatest of Three Numbers\n",
    "num1 = int(input(\"Enter the first number: \"))\n",
    "num2 = int(input(\"Enter the second number: \"))\n",
    "num3 = int(input(\"Enter the third number: \"))\n",
    "if num1 >= num2 and num1 >= num3:\n",
    "    print(f\"The greatest number is: {num1}\")\n",
    "elif num2 >= num1 and num2 >= num3:\n",
    "    print(f\"The greatest number is: {num2}\")\n",
    "else:\n",
    "    print(f\"The greatest number is: {num3}\")\n"
   ]
  },
  {
   "cell_type": "code",
   "execution_count": 35,
   "id": "ed1c6274-f73e-465e-bf2c-d8820dcb2eea",
   "metadata": {},
   "outputs": [
    {
     "name": "stdout",
     "output_type": "stream",
     "text": [
      "Positive numbers: [23, 4, 23, 21, 3]\n",
      "Negative numbers: [-6, -9, -45, -8]\n"
     ]
    }
   ],
   "source": [
    "# Separate positive and negative numbers\n",
    "x = [23, 4, -6, 23, -9, 21, 3, -45, -8]\n",
    "positive_numbers = []\n",
    "negative_numbers = []\n",
    "for num in x:\n",
    "    if num >= 0:\n",
    "        positive_numbers.append(num)\n",
    "    else:\n",
    "        negative_numbers.append(num)\n",
    "print(\"Positive numbers:\", positive_numbers)\n",
    "print(\"Negative numbers:\", negative_numbers)\n"
   ]
  },
  {
   "cell_type": "code",
   "execution_count": null,
   "id": "4f663c0f-ede7-45b3-8848-d26158a5f4d3",
   "metadata": {},
   "outputs": [],
   "source": []
  }
 ],
 "metadata": {
  "kernelspec": {
   "display_name": "Python 3 (ipykernel)",
   "language": "python",
   "name": "python3"
  },
  "language_info": {
   "codemirror_mode": {
    "name": "ipython",
    "version": 3
   },
   "file_extension": ".py",
   "mimetype": "text/x-python",
   "name": "python",
   "nbconvert_exporter": "python",
   "pygments_lexer": "ipython3",
   "version": "3.12.4"
  }
 },
 "nbformat": 4,
 "nbformat_minor": 5
}
