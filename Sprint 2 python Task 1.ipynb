{
 "cells": [
  {
   "cell_type": "code",
   "execution_count": 3,
   "id": "476d7b81-9b9a-4bf9-907b-540fd117aa07",
   "metadata": {},
   "outputs": [
    {
     "name": "stdin",
     "output_type": "stream",
     "text": [
      "Enter the number 23\n"
     ]
    },
    {
     "name": "stdout",
     "output_type": "stream",
     "text": [
      " the cube is: 12167\n"
     ]
    }
   ],
   "source": [
    "#using the return ststement\n",
    "def cube(num):\n",
    "    return num **3\n",
    "num=int(input(\"Enter the number\"))\n",
    "result=cube(num)\n",
    "print(\" the cube is:\",result)"
   ]
  },
  {
   "cell_type": "code",
   "execution_count": 1,
   "id": "58b67abb-d41c-4954-83fe-3b760780d4f8",
   "metadata": {},
   "outputs": [
    {
     "name": "stdin",
     "output_type": "stream",
     "text": [
      "Enter the number 23\n"
     ]
    },
    {
     "name": "stdout",
     "output_type": "stream",
     "text": [
      " you enntered: 23\n"
     ]
    },
    {
     "name": "stdin",
     "output_type": "stream",
     "text": [
      "Enter the number -3\n"
     ]
    },
    {
     "name": "stdout",
     "output_type": "stream",
     "text": [
      "negative number enter Stop excecution\n"
     ]
    }
   ],
   "source": [
    "#using Break statement\n",
    "while True:\n",
    "    num=int(input(\"Enter the number\"))\n",
    "    if num <0:\n",
    "            print(\"negative number enter Stop excecution\")\n",
    "            break\n",
    "    print(\" you entered:\",num)\n",
    " "
   ]
  },
  {
   "cell_type": "code",
   "execution_count": 5,
   "id": "6df05bb2-f730-4af1-b62e-b924f72e2841",
   "metadata": {},
   "outputs": [
    {
     "name": "stdout",
     "output_type": "stream",
     "text": [
      "2\n",
      "4\n",
      "6\n",
      "8\n",
      "10\n",
      "12\n",
      "14\n",
      "16\n",
      "18\n",
      "20\n"
     ]
    }
   ],
   "source": [
    "#using continue loop\n",
    "for num in range(1,21):\n",
    " if num % 2 != 0:  \n",
    "     continue\n",
    " print(num)"
   ]
  },
  {
   "cell_type": "code",
   "execution_count": 10,
   "id": "fcdf745c-7fd5-443a-a25c-1ec6c953f08e",
   "metadata": {},
   "outputs": [
    {
     "name": "stdout",
     "output_type": "stream",
     "text": [
      "16\n"
     ]
    }
   ],
   "source": [
    "# using Break and continue loop\n",
    "for num in range(1,21):\n",
    "    if num > 15:\n",
    "        break\n",
    "    if num % 2 != 0:  \n",
    "     continue\n",
    "print(num)\n",
    "        "
   ]
  },
  {
   "cell_type": "code",
   "execution_count": 11,
   "id": "f2afac90-20a3-4200-b1f9-e46e1e0debd3",
   "metadata": {},
   "outputs": [
    {
     "name": "stdout",
     "output_type": "stream",
     "text": [
      "Inside the function, x = 20\n",
      "Outside the function, x = 20\n"
     ]
    }
   ],
   "source": [
    "#local scope in function\n",
    "x = 20  \n",
    "def my_function():\n",
    "    print(\"Inside the function, x =\", x)  \n",
    "my_function()\n",
    "print(\"Outside the function, x =\", x)\n"
   ]
  },
  {
   "cell_type": "code",
   "execution_count": 12,
   "id": "a48d9a4d-518b-4624-a108-823a06d7a06d",
   "metadata": {},
   "outputs": [
    {
     "name": "stdout",
     "output_type": "stream",
     "text": [
      "Updated counter value: 1\n",
      "Updated counter value: 2\n",
      "Updated counter value: 3\n"
     ]
    }
   ],
   "source": [
    "#modify the globel variable inside a function\n",
    "counter = 0  \n",
    "def increment_counter():\n",
    "    global counter \n",
    "    counter += 1\n",
    "    print(\"Updated counter value:\", counter)\n",
    "increment_counter()  \n",
    "increment_counter()  \n",
    "increment_counter()  \n"
   ]
  },
  {
   "cell_type": "code",
   "execution_count": 13,
   "id": "09dd2f1a-9aff-45b2-82e5-bc478aa94318",
   "metadata": {},
   "outputs": [
    {
     "name": "stdout",
     "output_type": "stream",
     "text": [
      "Updated counter value: 1\n",
      "Updated counter value: 2\n",
      "Updated counter value: 3\n",
      "Updated counter value: 4\n"
     ]
    }
   ],
   "source": [
    "#demonstarting local and globel scope\n",
    "counter = 0  \n",
    "def increment_counter():\n",
    "    global counter  \n",
    "    counter += 1 \n",
    "    print(\"Updated counter value:\", counter)\n",
    "increment_counter()  \n",
    "increment_counter() \n",
    "increment_counter()  \n",
    "increment_counter()  "
   ]
  },
  {
   "cell_type": "code",
   "execution_count": 16,
   "id": "c77f4d1c-e3a7-4f90-bb20-b264dbc2e7fd",
   "metadata": {},
   "outputs": [
    {
     "name": "stdout",
     "output_type": "stream",
     "text": [
      "Modified tuple: ('apple', 'orange', 'cherry')\n",
      "Second element: orange\n",
      "Modified tuple: ('apple', 'orange', 'cherry')\n"
     ]
    }
   ],
   "source": [
    "#working with tuples in python\n",
    "fruits = (\"apple\", \"banana\", \"cherry\")\n",
    "fruits_list = list(fruits)\n",
    "fruits_list[1] = \"orange\"\n",
    "fruits = tuple(fruits_list)\n",
    "print(\"Modified tuple:\", fruits)\n",
    "print(\"Second element:\", fruits[1])\n",
    "fruits_list = list(fruits)\n",
    "fruits_list[1] = \"orange\"\n",
    "fruits = tuple(fruits_list)\n",
    "print(\"Modified tuple:\", fruits)\n"
   ]
  },
  {
   "cell_type": "code",
   "execution_count": 17,
   "id": "62519b44-b8f1-485f-b0a3-ad7434b68a1f",
   "metadata": {},
   "outputs": [
    {
     "name": "stdout",
     "output_type": "stream",
     "text": [
      "Union of set1 and set2: {1, 2, 3, 4, 5, 6, 7, 8}\n",
      "Intersection of set1 and set2: {4, 5}\n",
      "Difference (set1 - set2): {1, 2, 3}\n",
      "Difference (set2 - set1): {8, 6, 7}\n",
      "Set1 after adding 9: {1, 2, 3, 4, 5, 9}\n",
      "Set2 after removing 5: {4, 6, 7, 8}\n",
      "3 is present in set1.\n"
     ]
    }
   ],
   "source": [
    "#working with sets\n",
    "set1 = {1, 2, 3, 4, 5}\n",
    "set2 = {4, 5, 6, 7, 8}\n",
    "# Union\n",
    "union_set = set1.union(set2)\n",
    "print(\"Union of set1 and set2:\", union_set)\n",
    "# Intersection\n",
    "intersection_set = set1.intersection(set2)\n",
    "print(\"Intersection of set1 and set2:\", intersection_set)\n",
    "# Difference\n",
    "difference_set1 = set1.difference(set2)\n",
    "print(\"Difference (set1 - set2):\", difference_set1)\n",
    "difference_set2 = set2.difference(set1)\n",
    "print(\"Difference (set2 - set1):\", difference_set2)\n",
    "set1.add(9)\n",
    "print(\"Set1 after adding 9:\", set1)\n",
    "set2.remove(5)\n",
    "print(\"Set2 after removing 5:\", set2)\n",
    "num = 3\n",
    "if num in set1:\n",
    "    print(f\"{num} is present in set1.\")\n",
    "else:\n",
    "    print(f\"{num} is not present in set1.\")\n"
   ]
  },
  {
   "cell_type": "code",
   "execution_count": 23,
   "id": "f1be32ce-f7bf-4962-b0ea-8484eff679fe",
   "metadata": {},
   "outputs": [
    {
     "name": "stdout",
     "output_type": "stream",
     "text": [
      "Tuple1: (1, 2, 3, 4, 5)\n",
      "Tuple2: ('apple', 'banana', 'cherry')\n",
      "First element of tuple1: 1\n",
      "Last element of tuple2: cherry\n",
      "Slicing tuple1 from index 1 to 3: (2, 3, 4)\n",
      "Concatenated tuple: (1, 2, 3, 4, 5, 'apple', 'banana', 'cherry')\n",
      "Repeated tuple: (1, 2, 3, 4, 5, 1, 2, 3, 4, 5)\n",
      "Count of 2 in tuple5: 3\n",
      "Index of 4 in tuple5: 4\n",
      "Set1: {1, 2, 3, 4, 5}\n",
      "Set2: {4, 5, 6, 7, 8}\n",
      "Union of set1 and set2: {1, 2, 3, 4, 5, 6, 7, 8}\n",
      "Intersection of set1 and set2: {4, 5}\n",
      "Difference (set1 - set2): {1, 2, 3}\n",
      "Difference (set2 - set1): {8, 6, 7}\n",
      "Set1 after adding 9: {1, 2, 3, 4, 5, 9}\n",
      "Set2 after removing 5: {4, 6, 7, 8}\n",
      "3 is present in set1.\n"
     ]
    }
   ],
   "source": [
    "#tuple and set operation\n",
    "tuple1 = (1, 2, 3, 4, 5)\n",
    "tuple2 = (\"apple\", \"banana\", \"cherry\")\n",
    "print(\"Tuple1:\", tuple1)\n",
    "print(\"Tuple2:\", tuple2)\n",
    "print(\"First element of tuple1:\", tuple1[0])\n",
    "print(\"Last element of tuple2:\", tuple2[-1])\n",
    "print(\"Slicing tuple1 from index 1 to 3:\", tuple1[1:4])\n",
    "tuple3 = tuple1 + tuple2\n",
    "print(\"Concatenated tuple:\", tuple3)\n",
    "tuple4 = tuple1 * 2\n",
    "print(\"Repeated tuple:\", tuple4)\n",
    "tuple5 = (1, 2, 2, 3, 4, 2)\n",
    "print(\"Count of 2 in tuple5:\", tuple5.count(2))\n",
    "print(\"Index of 4 in tuple5:\", tuple5.index(4))\n",
    "set1 = {1, 2, 3, 4, 5}\n",
    "set2 = {4, 5, 6, 7, 8}\n",
    "print(\"Set1:\", set1)\n",
    "print(\"Set2:\", set2)\n",
    "union_set = set1.union(set2)\n",
    "print(\"Union of set1 and set2:\", union_set)\n",
    "intersection_set = set1.intersection(set2)\n",
    "print(\"Intersection of set1 and set2:\", intersection_set)\n",
    "difference_set1 = set1.difference(set2)\n",
    "print(\"Difference (set1 - set2):\", difference_set1)\n",
    "difference_set2 = set2.difference(set1)\n",
    "print(\"Difference (set2 - set1):\", difference_set2)\n",
    "set1.add(9)\n",
    "print(\"Set1 after adding 9:\", set1)\n",
    "set2.remove(5)\n",
    "print(\"Set2 after removing 5:\", set2)\n",
    "num = 3\n",
    "if num in set1:\n",
    "    print(f\"{num} is present in set1.\")\n",
    "else:\n",
    "    print(f\"{num} is not present in set1.\")\n",
    "\n"
   ]
  },
  {
   "cell_type": "code",
   "execution_count": 24,
   "id": "df6dbbc9-839e-4b46-bb1d-d07295c1041b",
   "metadata": {},
   "outputs": [
    {
     "name": "stdout",
     "output_type": "stream",
     "text": [
      "Set after conversion: {1, 2, 3, 4, 5}\n",
      "Set after adding 6: {1, 2, 3, 4, 5, 6}\n",
      "Set after removing 3: {1, 2, 4, 5, 6}\n",
      "Union of sets: {1, 2, 4, 5, 6, 7, 8}\n",
      "Intersection of sets: {4, 5, 6}\n",
      "Difference (my_set - set2): {1, 2}\n",
      "5 is present in the set.\n"
     ]
    }
   ],
   "source": [
    "#list to set conversion and basic set operaton\n",
    "my_list = [1, 2, 3, 4, 5, 3, 2, 1]\n",
    "my_set = set(my_list)\n",
    "print(\"Set after conversion:\", my_set)\n",
    "my_set.add(6)\n",
    "print(\"Set after adding 6:\", my_set)\n",
    "my_set.remove(3)\n",
    "print(\"Set after removing 3:\", my_set)\n",
    "set2 = {4, 5, 6, 7, 8}\n",
    "union_set = my_set.union(set2)\n",
    "print(\"Union of sets:\", union_set)\n",
    "intersection_set = my_set.intersection(set2)\n",
    "print(\"Intersection of sets:\", intersection_set)\n",
    "difference_set = my_set.difference(set2)\n",
    "print(\"Difference (my_set - set2):\", difference_set)\n",
    "num = 5\n",
    "if num in my_set:\n",
    "    print(f\"{num} is present in the set.\")\n",
    "else:\n",
    "    print(f\"{num} is not present in the set.\")\n"
   ]
  },
  {
   "cell_type": "code",
   "execution_count": null,
   "id": "88e752d2-e212-4827-8c31-f9ee538d3553",
   "metadata": {},
   "outputs": [],
   "source": []
  }
 ],
 "metadata": {
  "kernelspec": {
   "display_name": "Python 3 (ipykernel)",
   "language": "python",
   "name": "python3"
  },
  "language_info": {
   "codemirror_mode": {
    "name": "ipython",
    "version": 3
   },
   "file_extension": ".py",
   "mimetype": "text/x-python",
   "name": "python",
   "nbconvert_exporter": "python",
   "pygments_lexer": "ipython3",
   "version": "3.12.4"
  }
 },
 "nbformat": 4,
 "nbformat_minor": 5
}
